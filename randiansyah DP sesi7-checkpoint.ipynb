{
 "cells": [
  {
   "cell_type": "code",
   "execution_count": 2,
   "metadata": {},
   "outputs": [
    {
     "name": "stdout",
     "output_type": "stream",
     "text": [
      "input: aku mau jadi super hero\n",
      "input: AKU MAU JADI SUPER HERO\n",
      "output: OREH REPUS IDAJ UAM UKA\n"
     ]
    }
   ],
   "source": [
    "def reserve(s):\n",
    "    str =\"\"\n",
    "    for i in s:\n",
    "        str = i + str\n",
    "    return str\n",
    "s = input('input: ').upper()\n",
    "print('input: ',end=\"\")\n",
    "print(s)\n",
    "print('output: ',end=\"\")\n",
    "print(reserve(s))\n"
   ]
  },
  {
   "cell_type": "code",
   "execution_count": 5,
   "metadata": {},
   "outputs": [
    {
     "name": "stdout",
     "output_type": "stream",
     "text": [
      "masukan kalimat anda: New York Amerika\n",
      "total kalimat: NEW YORK AMERIKA\n",
      "     A -> 2\n",
      "     I -> 1\n",
      "     U -> 0\n",
      "     E -> 2\n",
      "     O -> 1\n",
      "\n",
      "total jumblah huruf vokal = 6\n"
     ]
    }
   ],
   "source": [
    "kalimat = input('masukan kalimat anda: ').upper()\n",
    "huruf_vokal = {\n",
    "    'A' : 0,\n",
    "    'I' : 0,\n",
    "    'U' : 0,\n",
    "    'E' : 0,\n",
    "    'O' : 0,\n",
    "}\n",
    "total_huruf_vokal = 0\n",
    "for i in kalimat :\n",
    "    if i in ['A', 'I', 'U', 'E', 'O']:\n",
    "             huruf_vokal[i] += 1\n",
    "             total_huruf_vokal += 1\n",
    "print(f'total kalimat: {kalimat}')\n",
    "print(f\"\"\"\\\n",
    "     A -> {huruf_vokal['A']}\n",
    "     I -> {huruf_vokal['I']}\n",
    "     U -> {huruf_vokal['U']}\n",
    "     E -> {huruf_vokal['E']}\n",
    "     O -> {huruf_vokal['O']}\n",
    "\"\"\")\n",
    "print(f'total jumblah huruf vokal = {total_huruf_vokal}')\n"
   ]
  }
 ],
 "metadata": {
  "kernelspec": {
   "display_name": "Python 3",
   "language": "python",
   "name": "python3"
  },
  "language_info": {
   "codemirror_mode": {
    "name": "ipython",
    "version": 3
   },
   "file_extension": ".py",
   "mimetype": "text/x-python",
   "name": "python",
   "nbconvert_exporter": "python",
   "pygments_lexer": "ipython3",
   "version": "3.8.5"
  }
 },
 "nbformat": 4,
 "nbformat_minor": 4
}
